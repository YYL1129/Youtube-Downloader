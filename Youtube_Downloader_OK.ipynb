{
  "nbformat": 4,
  "nbformat_minor": 0,
  "metadata": {
    "colab": {
      "provenance": [],
      "mount_file_id": "10xCtXbhVno4RY5Y1qBQICo5i5F_tpcjF",
      "authorship_tag": "ABX9TyPuix841ai8mKocf32BfW5s",
      "include_colab_link": true
    },
    "kernelspec": {
      "name": "python3",
      "display_name": "Python 3"
    },
    "language_info": {
      "name": "python"
    }
  },
  "cells": [
    {
      "cell_type": "markdown",
      "metadata": {
        "id": "view-in-github",
        "colab_type": "text"
      },
      "source": [
        "<a href=\"https://colab.research.google.com/github/YYL1129/Youtube-Downloader/blob/main/Youtube_Downloader_OK.ipynb\" target=\"_parent\"><img src=\"https://colab.research.google.com/assets/colab-badge.svg\" alt=\"Open In Colab\"/></a>"
      ]
    },
    {
      "cell_type": "code",
      "execution_count": null,
      "metadata": {
        "colab": {
          "base_uri": "https://localhost:8080/"
        },
        "collapsed": true,
        "id": "zS2cmpeQJxFH",
        "outputId": "eb2986d0-60c1-40f1-db54-dd281451dd4c"
      },
      "outputs": [
        {
          "output_type": "stream",
          "name": "stdout",
          "text": [
            "Collecting yt-dlp\n",
            "  Downloading yt_dlp-2024.11.4-py3-none-any.whl.metadata (172 kB)\n",
            "\u001b[?25l     \u001b[90m━━━━━━━━━━━━━━━━━━━━━━━━━━━━━━━━━━━━━━━━\u001b[0m \u001b[32m0.0/172.1 kB\u001b[0m \u001b[31m?\u001b[0m eta \u001b[36m-:--:--\u001b[0m\r\u001b[2K     \u001b[90m━━━━━━━━━━━━━━━━━━━━━━━━━━━━━━━━━━━━━━━━\u001b[0m \u001b[32m172.1/172.1 kB\u001b[0m \u001b[31m6.7 MB/s\u001b[0m eta \u001b[36m0:00:00\u001b[0m\n",
            "\u001b[?25hDownloading yt_dlp-2024.11.4-py3-none-any.whl (3.2 MB)\n",
            "\u001b[?25l   \u001b[90m━━━━━━━━━━━━━━━━━━━━━━━━━━━━━━━━━━━━━━━━\u001b[0m \u001b[32m0.0/3.2 MB\u001b[0m \u001b[31m?\u001b[0m eta \u001b[36m-:--:--\u001b[0m\r\u001b[2K   \u001b[91m━━━━━━━━━━━━━━━━━━━━━━━━━━━━━━━━━━━━━━━\u001b[0m\u001b[91m╸\u001b[0m \u001b[32m3.2/3.2 MB\u001b[0m \u001b[31m121.4 MB/s\u001b[0m eta \u001b[36m0:00:01\u001b[0m\r\u001b[2K   \u001b[90m━━━━━━━━━━━━━━━━━━━━━━━━━━━━━━━━━━━━━━━━\u001b[0m \u001b[32m3.2/3.2 MB\u001b[0m \u001b[31m65.3 MB/s\u001b[0m eta \u001b[36m0:00:00\u001b[0m\n",
            "\u001b[?25hInstalling collected packages: yt-dlp\n",
            "Successfully installed yt-dlp-2024.11.4\n"
          ]
        }
      ],
      "source": [
        "!pip install yt-dlp"
      ]
    },
    {
      "cell_type": "code",
      "source": [
        "# For best quality video (MP4) download from youtube\n",
        "\n",
        "import yt_dlp\n",
        "\n",
        "video_url = 'https://www.youtube.com/watch?v=7eh4d6sabA0&t=1046s'\n",
        "\n",
        "# Set up options to download the best quality video\n",
        "ydl_opts = {\n",
        "    'outtmpl': '/content/drive/MyDrive/Download Youtube/Python Machine Learning Tutorial.mp4',  # Save path in Google Drive\n",
        "    'format': 'bestvideo+bestaudio/best',  # Best video and audio merged\n",
        "    'merge_output_format': 'mp4',  # Ensure it's saved in MP4 format\n",
        "}\n",
        "\n",
        "# Download the video\n",
        "with yt_dlp.YoutubeDL(ydl_opts) as ydl:\n",
        "    ydl.download([video_url])\n",
        "\n",
        "print('Video downloaded successfully!')\n"
      ],
      "metadata": {
        "colab": {
          "base_uri": "https://localhost:8080/"
        },
        "id": "bIxp2jvmNwZH",
        "outputId": "73e9cea5-4246-428a-9ca6-5d45791105e9"
      },
      "execution_count": null,
      "outputs": [
        {
          "output_type": "stream",
          "name": "stdout",
          "text": [
            "[youtube] Extracting URL: https://www.youtube.com/watch?v=7eh4d6sabA0&t=1046s\n",
            "[youtube] 7eh4d6sabA0: Downloading webpage\n",
            "[youtube] 7eh4d6sabA0: Downloading ios player API JSON\n",
            "[youtube] 7eh4d6sabA0: Downloading mweb player API JSON\n",
            "[youtube] 7eh4d6sabA0: Downloading m3u8 information\n",
            "[info] 7eh4d6sabA0: Downloading 1 format(s): 303+251-1\n",
            "[download] Destination: /content/drive/MyDrive/Download Youtube/Python Machine Learning Tutorial.f303.webm\n",
            "[download] 100% of  279.53MiB in 00:00:07 at 37.28MiB/s  \n",
            "[download] Destination: /content/drive/MyDrive/Download Youtube/Python Machine Learning Tutorial.f251-1.webm\n",
            "[download] 100% of   39.99MiB in 00:00:00 at 41.24MiB/s  \n",
            "[Merger] Merging formats into \"/content/drive/MyDrive/Download Youtube/Python Machine Learning Tutorial.mp4\"\n",
            "Deleting original file /content/drive/MyDrive/Download Youtube/Python Machine Learning Tutorial.f303.webm (pass -k to keep)\n",
            "Deleting original file /content/drive/MyDrive/Download Youtube/Python Machine Learning Tutorial.f251-1.webm (pass -k to keep)\n",
            "Video downloaded successfully!\n"
          ]
        }
      ]
    },
    {
      "cell_type": "code",
      "source": [
        "# For best quality audio (MP3) from youtube\n",
        "\n",
        "import yt_dlp\n",
        "\n",
        "video_url = 'https://www.youtube.com/watch?v=1s7f0bYZYF0'\n",
        "\n",
        "# Set up options to download the best quality audio\n",
        "ydl_opts = {\n",
        "    'outtmpl': '/content/drive/MyDrive/Download Youtube/JISOO - FLOWER.mp3',  # Save path in Google Drive\n",
        "    'format': 'bestaudio/best',  # Best audio format available\n",
        "    'postprocessors': [{\n",
        "        'key': 'FFmpegExtractAudio',\n",
        "        'preferredcodec': 'mp3',  # Convert to mp3\n",
        "        'preferredquality': '192',  # Set quality of audio\n",
        "    }],\n",
        "}\n",
        "\n",
        "# Download the audio\n",
        "with yt_dlp.YoutubeDL(ydl_opts) as ydl:\n",
        "    ydl.download([video_url])\n",
        "\n",
        "print('Audio downloaded successfully!')\n"
      ],
      "metadata": {
        "id": "QoJsN_xJN0Gx",
        "colab": {
          "base_uri": "https://localhost:8080/"
        },
        "outputId": "e659d8d7-97c0-46f4-d875-6f69802fe1f3"
      },
      "execution_count": null,
      "outputs": [
        {
          "output_type": "stream",
          "name": "stdout",
          "text": [
            "[youtube] Extracting URL: https://www.youtube.com/watch?v=1s7f0bYZYF0\n",
            "[youtube] 1s7f0bYZYF0: Downloading webpage\n",
            "[youtube] 1s7f0bYZYF0: Downloading ios player API JSON\n",
            "[youtube] 1s7f0bYZYF0: Downloading mweb player API JSON\n",
            "[youtube] 1s7f0bYZYF0: Downloading m3u8 information\n",
            "[info] 1s7f0bYZYF0: Downloading 1 format(s): 251\n",
            "[download] Destination: /content/drive/MyDrive/Download Youtube/JISOO - FLOWER.mp3\n",
            "[download] 100% of    2.86MiB in 00:00:00 at 7.23MiB/s   \n",
            "[ExtractAudio] Destination: /content/drive/MyDrive/Download Youtube/JISOO - FLOWER.mp3.mp3\n",
            "Deleting original file /content/drive/MyDrive/Download Youtube/JISOO - FLOWER.mp3 (pass -k to keep)\n",
            "Audio downloaded successfully!\n"
          ]
        }
      ]
    }
  ]
}